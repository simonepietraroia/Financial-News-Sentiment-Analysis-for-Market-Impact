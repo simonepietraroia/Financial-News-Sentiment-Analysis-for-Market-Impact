{
 "cells": [
  {
   "cell_type": "code",
   "execution_count": 1,
   "id": "6da1ee86",
   "metadata": {},
   "outputs": [],
   "source": [
    "import pandas as pd\n",
    "import numpy as np"
   ]
  },
  {
   "cell_type": "code",
   "execution_count": 12,
   "id": "732d775f",
   "metadata": {},
   "outputs": [
    {
     "data": {
      "text/html": [
       "<div>\n",
       "<style scoped>\n",
       "    .dataframe tbody tr th:only-of-type {\n",
       "        vertical-align: middle;\n",
       "    }\n",
       "\n",
       "    .dataframe tbody tr th {\n",
       "        vertical-align: top;\n",
       "    }\n",
       "\n",
       "    .dataframe thead th {\n",
       "        text-align: right;\n",
       "    }\n",
       "</style>\n",
       "<table border=\"1\" class=\"dataframe\">\n",
       "  <thead>\n",
       "    <tr style=\"text-align: right;\">\n",
       "      <th></th>\n",
       "      <th>Date</th>\n",
       "      <th>Close</th>\n",
       "      <th>High</th>\n",
       "      <th>Low</th>\n",
       "      <th>Open</th>\n",
       "      <th>Volume</th>\n",
       "    </tr>\n",
       "  </thead>\n",
       "  <tbody>\n",
       "    <tr>\n",
       "      <th>0</th>\n",
       "      <td>2015-01-02</td>\n",
       "      <td>24.261044</td>\n",
       "      <td>24.729267</td>\n",
       "      <td>23.821668</td>\n",
       "      <td>24.718171</td>\n",
       "      <td>212818400</td>\n",
       "    </tr>\n",
       "    <tr>\n",
       "      <th>1</th>\n",
       "      <td>2015-01-05</td>\n",
       "      <td>23.577574</td>\n",
       "      <td>24.110150</td>\n",
       "      <td>23.391173</td>\n",
       "      <td>24.030263</td>\n",
       "      <td>257142000</td>\n",
       "    </tr>\n",
       "    <tr>\n",
       "      <th>2</th>\n",
       "      <td>2015-01-06</td>\n",
       "      <td>23.579794</td>\n",
       "      <td>23.839424</td>\n",
       "      <td>23.218085</td>\n",
       "      <td>23.641928</td>\n",
       "      <td>263188400</td>\n",
       "    </tr>\n",
       "    <tr>\n",
       "      <th>3</th>\n",
       "      <td>2015-01-07</td>\n",
       "      <td>23.910437</td>\n",
       "      <td>24.010294</td>\n",
       "      <td>23.677434</td>\n",
       "      <td>23.788387</td>\n",
       "      <td>160423600</td>\n",
       "    </tr>\n",
       "    <tr>\n",
       "      <th>4</th>\n",
       "      <td>2015-01-08</td>\n",
       "      <td>24.829134</td>\n",
       "      <td>24.886830</td>\n",
       "      <td>24.121251</td>\n",
       "      <td>24.238863</td>\n",
       "      <td>237458000</td>\n",
       "    </tr>\n",
       "    <tr>\n",
       "      <th>5</th>\n",
       "      <td>2015-01-09</td>\n",
       "      <td>24.855759</td>\n",
       "      <td>25.130922</td>\n",
       "      <td>24.456326</td>\n",
       "      <td>25.002216</td>\n",
       "      <td>214798000</td>\n",
       "    </tr>\n",
       "    <tr>\n",
       "      <th>6</th>\n",
       "      <td>2015-01-12</td>\n",
       "      <td>24.243292</td>\n",
       "      <td>24.993335</td>\n",
       "      <td>24.143435</td>\n",
       "      <td>24.986678</td>\n",
       "      <td>198603200</td>\n",
       "    </tr>\n",
       "    <tr>\n",
       "      <th>7</th>\n",
       "      <td>2015-01-13</td>\n",
       "      <td>24.458544</td>\n",
       "      <td>25.031063</td>\n",
       "      <td>24.167847</td>\n",
       "      <td>24.727051</td>\n",
       "      <td>268367600</td>\n",
       "    </tr>\n",
       "    <tr>\n",
       "      <th>8</th>\n",
       "      <td>2015-01-14</td>\n",
       "      <td>24.365339</td>\n",
       "      <td>24.518454</td>\n",
       "      <td>24.076860</td>\n",
       "      <td>24.196690</td>\n",
       "      <td>195826400</td>\n",
       "    </tr>\n",
       "    <tr>\n",
       "      <th>9</th>\n",
       "      <td>2015-01-15</td>\n",
       "      <td>23.704060</td>\n",
       "      <td>24.423036</td>\n",
       "      <td>23.668555</td>\n",
       "      <td>24.409723</td>\n",
       "      <td>240056000</td>\n",
       "    </tr>\n",
       "  </tbody>\n",
       "</table>\n",
       "</div>"
      ],
      "text/plain": [
       "         Date      Close       High        Low       Open     Volume\n",
       "0  2015-01-02  24.261044  24.729267  23.821668  24.718171  212818400\n",
       "1  2015-01-05  23.577574  24.110150  23.391173  24.030263  257142000\n",
       "2  2015-01-06  23.579794  23.839424  23.218085  23.641928  263188400\n",
       "3  2015-01-07  23.910437  24.010294  23.677434  23.788387  160423600\n",
       "4  2015-01-08  24.829134  24.886830  24.121251  24.238863  237458000\n",
       "5  2015-01-09  24.855759  25.130922  24.456326  25.002216  214798000\n",
       "6  2015-01-12  24.243292  24.993335  24.143435  24.986678  198603200\n",
       "7  2015-01-13  24.458544  25.031063  24.167847  24.727051  268367600\n",
       "8  2015-01-14  24.365339  24.518454  24.076860  24.196690  195826400\n",
       "9  2015-01-15  23.704060  24.423036  23.668555  24.409723  240056000"
      ]
     },
     "execution_count": 12,
     "metadata": {},
     "output_type": "execute_result"
    }
   ],
   "source": [
    "df = pd.read_csv('AAPL_raw.csv', skiprows=3, names=['Date', 'Close', 'High', 'Low', 'Open', 'Volume'])\n",
    "df.head(10)"
   ]
  },
  {
   "cell_type": "code",
   "execution_count": 13,
   "id": "94f6efe3",
   "metadata": {},
   "outputs": [
    {
     "data": {
      "text/plain": [
       "(2672, 6)"
      ]
     },
     "execution_count": 13,
     "metadata": {},
     "output_type": "execute_result"
    }
   ],
   "source": [
    "df.shape"
   ]
  },
  {
   "cell_type": "code",
   "execution_count": 14,
   "id": "59cc8935",
   "metadata": {},
   "outputs": [
    {
     "data": {
      "text/plain": [
       "<bound method DataFrame.info of             Date       Close        High         Low        Open     Volume\n",
       "0     2015-01-02   24.261044   24.729267   23.821668   24.718171  212818400\n",
       "1     2015-01-05   23.577574   24.110150   23.391173   24.030263  257142000\n",
       "2     2015-01-06   23.579794   23.839424   23.218085   23.641928  263188400\n",
       "3     2015-01-07   23.910437   24.010294   23.677434   23.788387  160423600\n",
       "4     2015-01-08   24.829134   24.886830   24.121251   24.238863  237458000\n",
       "...          ...         ...         ...         ...         ...        ...\n",
       "2667  2025-08-12  229.649994  230.800003  227.070007  228.009995   55626200\n",
       "2668  2025-08-13  233.330002  235.000000  230.429993  231.070007   69878500\n",
       "2669  2025-08-14  232.779999  235.119995  230.850006  234.059998   51916300\n",
       "2670  2025-08-15  231.589996  234.279999  229.339996  234.000000   56038700\n",
       "2671  2025-08-18  230.889999  233.119995  230.110001  231.699997   37451700\n",
       "\n",
       "[2672 rows x 6 columns]>"
      ]
     },
     "execution_count": 14,
     "metadata": {},
     "output_type": "execute_result"
    }
   ],
   "source": [
    "df.info"
   ]
  },
  {
   "cell_type": "code",
   "execution_count": 15,
   "id": "8613e269",
   "metadata": {},
   "outputs": [
    {
     "data": {
      "text/html": [
       "<div>\n",
       "<style scoped>\n",
       "    .dataframe tbody tr th:only-of-type {\n",
       "        vertical-align: middle;\n",
       "    }\n",
       "\n",
       "    .dataframe tbody tr th {\n",
       "        vertical-align: top;\n",
       "    }\n",
       "\n",
       "    .dataframe thead th {\n",
       "        text-align: right;\n",
       "    }\n",
       "</style>\n",
       "<table border=\"1\" class=\"dataframe\">\n",
       "  <thead>\n",
       "    <tr style=\"text-align: right;\">\n",
       "      <th></th>\n",
       "      <th>Close</th>\n",
       "      <th>High</th>\n",
       "      <th>Low</th>\n",
       "      <th>Open</th>\n",
       "      <th>Volume</th>\n",
       "    </tr>\n",
       "  </thead>\n",
       "  <tbody>\n",
       "    <tr>\n",
       "      <th>count</th>\n",
       "      <td>2672.000000</td>\n",
       "      <td>2672.000000</td>\n",
       "      <td>2672.000000</td>\n",
       "      <td>2672.000000</td>\n",
       "      <td>2.672000e+03</td>\n",
       "    </tr>\n",
       "    <tr>\n",
       "      <th>mean</th>\n",
       "      <td>101.061157</td>\n",
       "      <td>102.075724</td>\n",
       "      <td>99.944003</td>\n",
       "      <td>100.968045</td>\n",
       "      <td>1.136290e+08</td>\n",
       "    </tr>\n",
       "    <tr>\n",
       "      <th>std</th>\n",
       "      <td>69.792061</td>\n",
       "      <td>70.480376</td>\n",
       "      <td>69.018273</td>\n",
       "      <td>69.712657</td>\n",
       "      <td>6.804936e+07</td>\n",
       "    </tr>\n",
       "    <tr>\n",
       "      <th>min</th>\n",
       "      <td>20.624050</td>\n",
       "      <td>20.927680</td>\n",
       "      <td>20.425436</td>\n",
       "      <td>20.546430</td>\n",
       "      <td>2.323470e+07</td>\n",
       "    </tr>\n",
       "    <tr>\n",
       "      <th>25%</th>\n",
       "      <td>36.265045</td>\n",
       "      <td>36.484779</td>\n",
       "      <td>35.929499</td>\n",
       "      <td>36.260833</td>\n",
       "      <td>6.777740e+07</td>\n",
       "    </tr>\n",
       "    <tr>\n",
       "      <th>50%</th>\n",
       "      <td>76.727558</td>\n",
       "      <td>77.299974</td>\n",
       "      <td>75.979730</td>\n",
       "      <td>76.546423</td>\n",
       "      <td>9.650920e+07</td>\n",
       "    </tr>\n",
       "    <tr>\n",
       "      <th>75%</th>\n",
       "      <td>162.982140</td>\n",
       "      <td>164.627783</td>\n",
       "      <td>161.648769</td>\n",
       "      <td>162.966115</td>\n",
       "      <td>1.385533e+08</td>\n",
       "    </tr>\n",
       "    <tr>\n",
       "      <th>max</th>\n",
       "      <td>258.103729</td>\n",
       "      <td>259.179926</td>\n",
       "      <td>256.718662</td>\n",
       "      <td>257.276679</td>\n",
       "      <td>6.488252e+08</td>\n",
       "    </tr>\n",
       "  </tbody>\n",
       "</table>\n",
       "</div>"
      ],
      "text/plain": [
       "             Close         High          Low         Open        Volume\n",
       "count  2672.000000  2672.000000  2672.000000  2672.000000  2.672000e+03\n",
       "mean    101.061157   102.075724    99.944003   100.968045  1.136290e+08\n",
       "std      69.792061    70.480376    69.018273    69.712657  6.804936e+07\n",
       "min      20.624050    20.927680    20.425436    20.546430  2.323470e+07\n",
       "25%      36.265045    36.484779    35.929499    36.260833  6.777740e+07\n",
       "50%      76.727558    77.299974    75.979730    76.546423  9.650920e+07\n",
       "75%     162.982140   164.627783   161.648769   162.966115  1.385533e+08\n",
       "max     258.103729   259.179926   256.718662   257.276679  6.488252e+08"
      ]
     },
     "execution_count": 15,
     "metadata": {},
     "output_type": "execute_result"
    }
   ],
   "source": [
    "df.describe()"
   ]
  },
  {
   "cell_type": "code",
   "execution_count": 16,
   "id": "6abc455b",
   "metadata": {},
   "outputs": [
    {
     "data": {
      "text/plain": [
       "Date      0\n",
       "Close     0\n",
       "High      0\n",
       "Low       0\n",
       "Open      0\n",
       "Volume    0\n",
       "dtype: int64"
      ]
     },
     "execution_count": 16,
     "metadata": {},
     "output_type": "execute_result"
    }
   ],
   "source": [
    "df.isna().sum()"
   ]
  },
  {
   "cell_type": "code",
   "execution_count": null,
   "id": "8df15ac0",
   "metadata": {},
   "outputs": [],
   "source": [
    "df."
   ]
  }
 ],
 "metadata": {
  "kernelspec": {
   "display_name": "Python 3",
   "language": "python",
   "name": "python3"
  },
  "language_info": {
   "codemirror_mode": {
    "name": "ipython",
    "version": 3
   },
   "file_extension": ".py",
   "mimetype": "text/x-python",
   "name": "python",
   "nbconvert_exporter": "python",
   "pygments_lexer": "ipython3",
   "version": "3.12.11"
  }
 },
 "nbformat": 4,
 "nbformat_minor": 5
}
