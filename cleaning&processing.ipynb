{
 "cells": [
  {
   "cell_type": "code",
   "execution_count": 1,
   "id": "987cf7b4",
   "metadata": {},
   "outputs": [
    {
     "name": "stdout",
     "output_type": "stream",
     "text": [
      "Requirement already satisfied: pandas in /home/gitpod/.pyenv/versions/3.12.11/lib/python3.12/site-packages (2.3.1)\n",
      "Requirement already satisfied: matplotlib in /home/gitpod/.pyenv/versions/3.12.11/lib/python3.12/site-packages (3.10.5)\n",
      "Requirement already satisfied: seaborn in /home/gitpod/.pyenv/versions/3.12.11/lib/python3.12/site-packages (0.13.2)\n",
      "Requirement already satisfied: scikit-learn in /home/gitpod/.pyenv/versions/3.12.11/lib/python3.12/site-packages (1.7.1)\n",
      "Requirement already satisfied: numpy>=1.26.0 in /home/gitpod/.pyenv/versions/3.12.11/lib/python3.12/site-packages (from pandas) (2.3.2)\n",
      "Requirement already satisfied: python-dateutil>=2.8.2 in /home/gitpod/.pyenv/versions/3.12.11/lib/python3.12/site-packages (from pandas) (2.9.0.post0)\n",
      "Requirement already satisfied: pytz>=2020.1 in /home/gitpod/.pyenv/versions/3.12.11/lib/python3.12/site-packages (from pandas) (2025.2)\n",
      "Requirement already satisfied: tzdata>=2022.7 in /home/gitpod/.pyenv/versions/3.12.11/lib/python3.12/site-packages (from pandas) (2025.2)\n",
      "Requirement already satisfied: contourpy>=1.0.1 in /home/gitpod/.pyenv/versions/3.12.11/lib/python3.12/site-packages (from matplotlib) (1.3.3)\n",
      "Requirement already satisfied: cycler>=0.10 in /home/gitpod/.pyenv/versions/3.12.11/lib/python3.12/site-packages (from matplotlib) (0.12.1)\n",
      "Requirement already satisfied: fonttools>=4.22.0 in /home/gitpod/.pyenv/versions/3.12.11/lib/python3.12/site-packages (from matplotlib) (4.59.1)\n",
      "Requirement already satisfied: kiwisolver>=1.3.1 in /home/gitpod/.pyenv/versions/3.12.11/lib/python3.12/site-packages (from matplotlib) (1.4.9)\n",
      "Requirement already satisfied: packaging>=20.0 in /home/gitpod/.pyenv/versions/3.12.11/lib/python3.12/site-packages (from matplotlib) (25.0)\n",
      "Requirement already satisfied: pillow>=8 in /home/gitpod/.pyenv/versions/3.12.11/lib/python3.12/site-packages (from matplotlib) (11.3.0)\n",
      "Requirement already satisfied: pyparsing>=2.3.1 in /home/gitpod/.pyenv/versions/3.12.11/lib/python3.12/site-packages (from matplotlib) (3.2.3)\n",
      "Requirement already satisfied: scipy>=1.8.0 in /home/gitpod/.pyenv/versions/3.12.11/lib/python3.12/site-packages (from scikit-learn) (1.16.1)\n",
      "Requirement already satisfied: joblib>=1.2.0 in /home/gitpod/.pyenv/versions/3.12.11/lib/python3.12/site-packages (from scikit-learn) (1.5.1)\n",
      "Requirement already satisfied: threadpoolctl>=3.1.0 in /home/gitpod/.pyenv/versions/3.12.11/lib/python3.12/site-packages (from scikit-learn) (3.6.0)\n",
      "Requirement already satisfied: six>=1.5 in /home/gitpod/.pyenv/versions/3.12.11/lib/python3.12/site-packages (from python-dateutil>=2.8.2->pandas) (1.17.0)\n",
      "\n",
      "\u001b[1m[\u001b[0m\u001b[34;49mnotice\u001b[0m\u001b[1;39;49m]\u001b[0m\u001b[39;49m A new release of pip is available: \u001b[0m\u001b[31;49m25.1.1\u001b[0m\u001b[39;49m -> \u001b[0m\u001b[32;49m25.2\u001b[0m\n",
      "\u001b[1m[\u001b[0m\u001b[34;49mnotice\u001b[0m\u001b[1;39;49m]\u001b[0m\u001b[39;49m To update, run: \u001b[0m\u001b[32;49mpip install --upgrade pip\u001b[0m\n"
     ]
    }
   ],
   "source": [
    "!pip install pandas matplotlib seaborn scikit-learn"
   ]
  },
  {
   "cell_type": "code",
   "execution_count": 2,
   "id": "6da1ee86",
   "metadata": {},
   "outputs": [],
   "source": [
    "import pandas as pd\n",
    "import numpy as np"
   ]
  },
  {
   "cell_type": "code",
   "execution_count": 3,
   "id": "732d775f",
   "metadata": {},
   "outputs": [
    {
     "data": {
      "text/html": [
       "<div>\n",
       "<style scoped>\n",
       "    .dataframe tbody tr th:only-of-type {\n",
       "        vertical-align: middle;\n",
       "    }\n",
       "\n",
       "    .dataframe tbody tr th {\n",
       "        vertical-align: top;\n",
       "    }\n",
       "\n",
       "    .dataframe thead th {\n",
       "        text-align: right;\n",
       "    }\n",
       "</style>\n",
       "<table border=\"1\" class=\"dataframe\">\n",
       "  <thead>\n",
       "    <tr style=\"text-align: right;\">\n",
       "      <th></th>\n",
       "      <th>Close</th>\n",
       "      <th>High</th>\n",
       "      <th>Low</th>\n",
       "      <th>Open</th>\n",
       "      <th>Volume</th>\n",
       "    </tr>\n",
       "    <tr>\n",
       "      <th>Date</th>\n",
       "      <th></th>\n",
       "      <th></th>\n",
       "      <th></th>\n",
       "      <th></th>\n",
       "      <th></th>\n",
       "    </tr>\n",
       "  </thead>\n",
       "  <tbody>\n",
       "    <tr>\n",
       "      <th>2015-01-02</th>\n",
       "      <td>24.261044</td>\n",
       "      <td>24.729267</td>\n",
       "      <td>23.821668</td>\n",
       "      <td>24.718171</td>\n",
       "      <td>212818400</td>\n",
       "    </tr>\n",
       "    <tr>\n",
       "      <th>2015-01-05</th>\n",
       "      <td>23.577574</td>\n",
       "      <td>24.110150</td>\n",
       "      <td>23.391173</td>\n",
       "      <td>24.030263</td>\n",
       "      <td>257142000</td>\n",
       "    </tr>\n",
       "    <tr>\n",
       "      <th>2015-01-06</th>\n",
       "      <td>23.579794</td>\n",
       "      <td>23.839424</td>\n",
       "      <td>23.218085</td>\n",
       "      <td>23.641928</td>\n",
       "      <td>263188400</td>\n",
       "    </tr>\n",
       "    <tr>\n",
       "      <th>2015-01-07</th>\n",
       "      <td>23.910437</td>\n",
       "      <td>24.010294</td>\n",
       "      <td>23.677434</td>\n",
       "      <td>23.788387</td>\n",
       "      <td>160423600</td>\n",
       "    </tr>\n",
       "    <tr>\n",
       "      <th>2015-01-08</th>\n",
       "      <td>24.829134</td>\n",
       "      <td>24.886830</td>\n",
       "      <td>24.121251</td>\n",
       "      <td>24.238863</td>\n",
       "      <td>237458000</td>\n",
       "    </tr>\n",
       "    <tr>\n",
       "      <th>2015-01-09</th>\n",
       "      <td>24.855759</td>\n",
       "      <td>25.130922</td>\n",
       "      <td>24.456326</td>\n",
       "      <td>25.002216</td>\n",
       "      <td>214798000</td>\n",
       "    </tr>\n",
       "    <tr>\n",
       "      <th>2015-01-12</th>\n",
       "      <td>24.243292</td>\n",
       "      <td>24.993335</td>\n",
       "      <td>24.143435</td>\n",
       "      <td>24.986678</td>\n",
       "      <td>198603200</td>\n",
       "    </tr>\n",
       "    <tr>\n",
       "      <th>2015-01-13</th>\n",
       "      <td>24.458544</td>\n",
       "      <td>25.031063</td>\n",
       "      <td>24.167847</td>\n",
       "      <td>24.727051</td>\n",
       "      <td>268367600</td>\n",
       "    </tr>\n",
       "    <tr>\n",
       "      <th>2015-01-14</th>\n",
       "      <td>24.365339</td>\n",
       "      <td>24.518454</td>\n",
       "      <td>24.076860</td>\n",
       "      <td>24.196690</td>\n",
       "      <td>195826400</td>\n",
       "    </tr>\n",
       "    <tr>\n",
       "      <th>2015-01-15</th>\n",
       "      <td>23.704060</td>\n",
       "      <td>24.423036</td>\n",
       "      <td>23.668555</td>\n",
       "      <td>24.409723</td>\n",
       "      <td>240056000</td>\n",
       "    </tr>\n",
       "  </tbody>\n",
       "</table>\n",
       "</div>"
      ],
      "text/plain": [
       "                Close       High        Low       Open     Volume\n",
       "Date                                                             \n",
       "2015-01-02  24.261044  24.729267  23.821668  24.718171  212818400\n",
       "2015-01-05  23.577574  24.110150  23.391173  24.030263  257142000\n",
       "2015-01-06  23.579794  23.839424  23.218085  23.641928  263188400\n",
       "2015-01-07  23.910437  24.010294  23.677434  23.788387  160423600\n",
       "2015-01-08  24.829134  24.886830  24.121251  24.238863  237458000\n",
       "2015-01-09  24.855759  25.130922  24.456326  25.002216  214798000\n",
       "2015-01-12  24.243292  24.993335  24.143435  24.986678  198603200\n",
       "2015-01-13  24.458544  25.031063  24.167847  24.727051  268367600\n",
       "2015-01-14  24.365339  24.518454  24.076860  24.196690  195826400\n",
       "2015-01-15  23.704060  24.423036  23.668555  24.409723  240056000"
      ]
     },
     "execution_count": 3,
     "metadata": {},
     "output_type": "execute_result"
    }
   ],
   "source": [
    "df = pd.read_csv(\n",
    "    'AAPL_raw.csv',\n",
    "    skiprows=3,\n",
    "    names=['Date', 'Close', 'High', 'Low', 'Open', 'Volume'],\n",
    "    index_col='Date',\n",
    "    parse_dates=True        \n",
    ")\n",
    "df.head(10)"
   ]
  },
  {
   "cell_type": "code",
   "execution_count": 4,
   "id": "94f6efe3",
   "metadata": {},
   "outputs": [
    {
     "data": {
      "text/plain": [
       "(2672, 5)"
      ]
     },
     "execution_count": 4,
     "metadata": {},
     "output_type": "execute_result"
    }
   ],
   "source": [
    "df.shape"
   ]
  },
  {
   "cell_type": "code",
   "execution_count": 5,
   "id": "59cc8935",
   "metadata": {},
   "outputs": [
    {
     "data": {
      "text/plain": [
       "<bound method DataFrame.info of                  Close        High         Low        Open     Volume\n",
       "Date                                                                 \n",
       "2015-01-02   24.261044   24.729267   23.821668   24.718171  212818400\n",
       "2015-01-05   23.577574   24.110150   23.391173   24.030263  257142000\n",
       "2015-01-06   23.579794   23.839424   23.218085   23.641928  263188400\n",
       "2015-01-07   23.910437   24.010294   23.677434   23.788387  160423600\n",
       "2015-01-08   24.829134   24.886830   24.121251   24.238863  237458000\n",
       "...                ...         ...         ...         ...        ...\n",
       "2025-08-12  229.649994  230.800003  227.070007  228.009995   55626200\n",
       "2025-08-13  233.330002  235.000000  230.429993  231.070007   69878500\n",
       "2025-08-14  232.779999  235.119995  230.850006  234.059998   51916300\n",
       "2025-08-15  231.589996  234.279999  229.339996  234.000000   56038700\n",
       "2025-08-18  230.889999  233.119995  230.110001  231.699997   37451700\n",
       "\n",
       "[2672 rows x 5 columns]>"
      ]
     },
     "execution_count": 5,
     "metadata": {},
     "output_type": "execute_result"
    }
   ],
   "source": [
    "df.info"
   ]
  },
  {
   "cell_type": "code",
   "execution_count": 6,
   "id": "8613e269",
   "metadata": {},
   "outputs": [
    {
     "data": {
      "text/html": [
       "<div>\n",
       "<style scoped>\n",
       "    .dataframe tbody tr th:only-of-type {\n",
       "        vertical-align: middle;\n",
       "    }\n",
       "\n",
       "    .dataframe tbody tr th {\n",
       "        vertical-align: top;\n",
       "    }\n",
       "\n",
       "    .dataframe thead th {\n",
       "        text-align: right;\n",
       "    }\n",
       "</style>\n",
       "<table border=\"1\" class=\"dataframe\">\n",
       "  <thead>\n",
       "    <tr style=\"text-align: right;\">\n",
       "      <th></th>\n",
       "      <th>Close</th>\n",
       "      <th>High</th>\n",
       "      <th>Low</th>\n",
       "      <th>Open</th>\n",
       "      <th>Volume</th>\n",
       "    </tr>\n",
       "  </thead>\n",
       "  <tbody>\n",
       "    <tr>\n",
       "      <th>count</th>\n",
       "      <td>2672.000000</td>\n",
       "      <td>2672.000000</td>\n",
       "      <td>2672.000000</td>\n",
       "      <td>2672.000000</td>\n",
       "      <td>2.672000e+03</td>\n",
       "    </tr>\n",
       "    <tr>\n",
       "      <th>mean</th>\n",
       "      <td>101.061157</td>\n",
       "      <td>102.075724</td>\n",
       "      <td>99.944003</td>\n",
       "      <td>100.968045</td>\n",
       "      <td>1.136290e+08</td>\n",
       "    </tr>\n",
       "    <tr>\n",
       "      <th>std</th>\n",
       "      <td>69.792061</td>\n",
       "      <td>70.480376</td>\n",
       "      <td>69.018273</td>\n",
       "      <td>69.712657</td>\n",
       "      <td>6.804936e+07</td>\n",
       "    </tr>\n",
       "    <tr>\n",
       "      <th>min</th>\n",
       "      <td>20.624050</td>\n",
       "      <td>20.927680</td>\n",
       "      <td>20.425436</td>\n",
       "      <td>20.546430</td>\n",
       "      <td>2.323470e+07</td>\n",
       "    </tr>\n",
       "    <tr>\n",
       "      <th>25%</th>\n",
       "      <td>36.265045</td>\n",
       "      <td>36.484779</td>\n",
       "      <td>35.929499</td>\n",
       "      <td>36.260833</td>\n",
       "      <td>6.777740e+07</td>\n",
       "    </tr>\n",
       "    <tr>\n",
       "      <th>50%</th>\n",
       "      <td>76.727558</td>\n",
       "      <td>77.299974</td>\n",
       "      <td>75.979730</td>\n",
       "      <td>76.546423</td>\n",
       "      <td>9.650920e+07</td>\n",
       "    </tr>\n",
       "    <tr>\n",
       "      <th>75%</th>\n",
       "      <td>162.982140</td>\n",
       "      <td>164.627783</td>\n",
       "      <td>161.648769</td>\n",
       "      <td>162.966115</td>\n",
       "      <td>1.385533e+08</td>\n",
       "    </tr>\n",
       "    <tr>\n",
       "      <th>max</th>\n",
       "      <td>258.103729</td>\n",
       "      <td>259.179926</td>\n",
       "      <td>256.718662</td>\n",
       "      <td>257.276679</td>\n",
       "      <td>6.488252e+08</td>\n",
       "    </tr>\n",
       "  </tbody>\n",
       "</table>\n",
       "</div>"
      ],
      "text/plain": [
       "             Close         High          Low         Open        Volume\n",
       "count  2672.000000  2672.000000  2672.000000  2672.000000  2.672000e+03\n",
       "mean    101.061157   102.075724    99.944003   100.968045  1.136290e+08\n",
       "std      69.792061    70.480376    69.018273    69.712657  6.804936e+07\n",
       "min      20.624050    20.927680    20.425436    20.546430  2.323470e+07\n",
       "25%      36.265045    36.484779    35.929499    36.260833  6.777740e+07\n",
       "50%      76.727558    77.299974    75.979730    76.546423  9.650920e+07\n",
       "75%     162.982140   164.627783   161.648769   162.966115  1.385533e+08\n",
       "max     258.103729   259.179926   256.718662   257.276679  6.488252e+08"
      ]
     },
     "execution_count": 6,
     "metadata": {},
     "output_type": "execute_result"
    }
   ],
   "source": [
    "df.describe()"
   ]
  },
  {
   "cell_type": "code",
   "execution_count": 7,
   "id": "6abc455b",
   "metadata": {},
   "outputs": [
    {
     "data": {
      "text/plain": [
       "Close     0\n",
       "High      0\n",
       "Low       0\n",
       "Open      0\n",
       "Volume    0\n",
       "dtype: int64"
      ]
     },
     "execution_count": 7,
     "metadata": {},
     "output_type": "execute_result"
    }
   ],
   "source": [
    "df.isna().sum()"
   ]
  },
  {
   "cell_type": "code",
   "execution_count": 8,
   "id": "8df15ac0",
   "metadata": {},
   "outputs": [
    {
     "data": {
      "text/plain": [
       "array([[<Axes: title={'center': 'Close'}>,\n",
       "        <Axes: title={'center': 'High'}>],\n",
       "       [<Axes: title={'center': 'Low'}>,\n",
       "        <Axes: title={'center': 'Open'}>],\n",
       "       [<Axes: title={'center': 'Volume'}>, <Axes: >]], dtype=object)"
      ]
     },
     "execution_count": 8,
     "metadata": {},
     "output_type": "execute_result"
    },
    {
     "data": {
      "image/png": "[encoded data removed]",
      "text/plain": [
       "<Figure size 1500x1000 with 6 Axes>"
      ]
     },
     "metadata": {},
     "output_type": "display_data"
    }
   ],
   "source": [
    "import matplotlib.pyplot as plt\n",
    "\n",
    "df.hist(figsize=(15, 10), bins=20)"
   ]
  },
  {
   "cell_type": "code",
   "execution_count": 9,
   "id": "bf19fb18",
   "metadata": {},
   "outputs": [
    {
     "data": {
      "text/plain": [
       "<Axes: >"
      ]
     },
     "execution_count": 9,
     "metadata": {},
     "output_type": "execute_result"
    },
    {
     "data": {
      "image/png": "[encoded data removed]",
      "text/plain": [
       "<Figure size 640x480 with 2 Axes>"
      ]
     },
     "metadata": {},
     "output_type": "display_data"
    }
   ],
   "source": [
    "import seaborn as sns\n",
    "corr_matrix = df.corr()\n",
    "\n",
    "sns.heatmap(corr_matrix)"
   ]
  },
  {
   "cell_type": "code",
   "execution_count": 10,
   "id": "88d70ed4",
   "metadata": {},
   "outputs": [],
   "source": [
    "close_prices = df['Close'].values.reshape(-1, 1)"
   ]
  },
  {
   "cell_type": "code",
   "execution_count": 11,
   "id": "6ea68461",
   "metadata": {},
   "outputs": [],
   "source": [
    "from sklearn.preprocessing import MinMaxScaler\n",
    "\n",
    "scaler = MinMaxScaler(feature_range=(0, 1))\n",
    "scaled_data = scaler.fit_transform(close_prices)"
   ]
  },
  {
   "cell_type": "code",
   "execution_count": 12,
   "id": "52db761c",
   "metadata": {},
   "outputs": [],
   "source": [
    "def create_sequences(df, seq_length=60):\n",
    "    data_array = df.to_numpy()  # ensure NumPy array\n",
    "    X, y = [], []\n",
    "    \n",
    "    for i in range(seq_length, len(data_array)):\n",
    "        X.append(data_array[i-seq_length:i, 0])  # column 0: 'Close'\n",
    "        y.append(data_array[i, 0])\n",
    "    \n",
    "    X = np.array(X)\n",
    "    y = np.array(y)\n",
    "    \n",
    "    # reshape X for LSTM: (samples, timesteps, features)\n",
    "    X = np.expand_dims(X, axis=2)\n",
    "    return X, y"
   ]
  },
  {
   "cell_type": "code",
   "execution_count": 13,
   "id": "6874c41f",
   "metadata": {},
   "outputs": [],
   "source": [
    "train_size = int(len(scaled_data) * 0.8)\n",
    "train_data = scaled_data[:train_size]\n",
    "test_data = scaled_data[train_size:]"
   ]
  },
  {
   "cell_type": "code",
   "execution_count": 14,
   "id": "68b86e85",
   "metadata": {},
   "outputs": [],
   "source": [
    "X_train, y_train = create_sequences(pd.DataFrame(train_data))\n",
    "X_test, y_test = create_sequences(pd.DataFrame(test_data))"
   ]
  },
  {
   "cell_type": "code",
   "execution_count": 15,
   "id": "4b770ab7",
   "metadata": {},
   "outputs": [
    {
     "name": "stdout",
     "output_type": "stream",
     "text": [
      "(2077, 60, 1)\n",
      "(2077,)\n",
      "[[0.01531497]\n",
      " [0.01243695]\n",
      " [0.0124463 ]\n",
      " [0.0138386 ]\n",
      " [0.01770713]\n",
      " [0.01781924]\n",
      " [0.01524022]\n",
      " [0.01614662]\n",
      " [0.01575414]\n",
      " [0.01296957]\n",
      " [0.012194  ]\n",
      " [0.01474496]\n",
      " [0.01552057]\n",
      " [0.0181837 ]\n",
      " [0.01872563]\n",
      " [0.01883778]\n",
      " [0.01513744]\n",
      " [0.02090284]\n",
      " [0.02425743]\n",
      " [0.0226315 ]\n",
      " [0.02400511]\n",
      " [0.02402382]\n",
      " [0.02487412]\n",
      " [0.02567155]\n",
      " [0.02472403]\n",
      " [0.02546515]\n",
      " [0.0276228 ]\n",
      " [0.03030581]\n",
      " [0.03178802]\n",
      " [0.03236966]\n",
      " [0.03307325]\n",
      " [0.03390815]\n",
      " [0.03365485]\n",
      " [0.03463987]\n",
      " [0.03792326]\n",
      " [0.0371446 ]\n",
      " [0.03397381]\n",
      " [0.03550295]\n",
      " [0.03366425]\n",
      " [0.03425527]\n",
      " [0.03450852]\n",
      " [0.03373928]\n",
      " [0.03174111]\n",
      " [0.03191936]\n",
      " [0.03242593]\n",
      " [0.02995867]\n",
      " [0.02782916]\n",
      " [0.0299024 ]\n",
      " [0.02909564]\n",
      " [0.03037147]\n",
      " [0.0323321 ]\n",
      " [0.03367362]\n",
      " [0.03276364]\n",
      " [0.03126268]\n",
      " [0.0324916 ]\n",
      " [0.0320038 ]\n",
      " [0.02889862]\n",
      " [0.0297054 ]\n",
      " [0.02877668]\n",
      " [0.03170359]]\n"
     ]
    }
   ],
   "source": [
    "print(X_train.shape)\n",
    "print(y_train.shape)  \n",
    "print(X_train[0])  "
   ]
  },
  {
   "cell_type": "code",
   "execution_count": 16,
   "id": "c75bf3bb",
   "metadata": {},
   "outputs": [],
   "source": [
    "np.save('X_train.npy', X_train)\n",
    "np.save('y_train.npy', y_train)\n",
    "np.save('X_test.npy', X_test)\n",
    "np.save('y_test.npy', y_test)"
   ]
  },
  {
   "cell_type": "code",
   "execution_count": 17,
   "id": "17a15c6c",
   "metadata": {},
   "outputs": [
    {
     "data": {
      "text/plain": [
       "['scaler.pkl']"
      ]
     },
     "execution_count": 17,
     "metadata": {},
     "output_type": "execute_result"
    }
   ],
   "source": [
    "import joblib\n",
    "joblib.dump(scaler, 'scaler.pkl')"
   ]
  },
  {
   "cell_type": "code",
   "execution_count": null,
   "id": "7d2c660a",
   "metadata": {},
   "outputs": [],
   "source": []
  }
 ],
 "metadata": {
  "kernelspec": {
   "display_name": "Python 3",
   "language": "python",
   "name": "python3"
  },
  "language_info": {
   "codemirror_mode": {
    "name": "ipython",
    "version": 3
   },
   "file_extension": ".py",
   "mimetype": "text/x-python",
   "name": "python",
   "nbconvert_exporter": "python",
   "pygments_lexer": "ipython3",
   "version": "3.12.11"
  }
 },
 "nbformat": 4,
 "nbformat_minor": 5
}
